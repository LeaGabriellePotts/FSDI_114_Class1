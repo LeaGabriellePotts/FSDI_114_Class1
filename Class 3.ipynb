{
 "cells": [
  {
   "cell_type": "code",
   "execution_count": 7,
   "id": "474062b8",
   "metadata": {},
   "outputs": [],
   "source": [
    "class Node:\n",
    "    def __init__(self,data):\n",
    "        self.data = data\n",
    "        self.above = None\n",
    "\n",
    "class Stack:\n",
    "    def __init__(self):\n",
    "        self.base = None\n",
    "        \n",
    "    def push(self, item):\n",
    "        new_node = Node(item)\n",
    "        if not self.base:               # if self.base == none\n",
    "            self.base = new_node\n",
    "        else:\n",
    "            current = self.base\n",
    "            while current.above:        # while current.above != None\n",
    "                current = current.above\n",
    "            current.above = new_node\n",
    "            \n",
    "    def pop(self):\n",
    "        # Our pop operation must, at a minimum do two things:\n",
    "        #1. Remove an element from our collection (our stack)\n",
    "        #2. Return the value that element (or Node) is holding.\n",
    "        current = self.base\n",
    "        if not current:\n",
    "            return current\n",
    "        prev = None\n",
    "        while current.above:\n",
    "            prev = current\n",
    "            current = current.above\n",
    "#             print(\"prev: %s\" % prev.data)\n",
    "#             print(\"current: %s\" % current.data)    \n",
    "        target_data = current.data\n",
    "        if prev:\n",
    "            prev.above = None\n",
    "        else:\n",
    "            self.base = None\n",
    "        return target_data\n",
    "    \n",
    "    def peek(self):\n",
    "        pass\n",
    "    \n",
    "    def is_empty(self):\n",
    "        pass\n",
    "    \n",
    "    def size(self):\n",
    "        pass\n",
    "        "
   ]
  },
  {
   "cell_type": "code",
   "execution_count": 8,
   "id": "d3b7e4e3",
   "metadata": {},
   "outputs": [
    {
     "data": {
      "text/plain": [
       "'leafaR'"
      ]
     },
     "execution_count": 8,
     "metadata": {},
     "output_type": "execute_result"
    }
   ],
   "source": [
    "def invert_str(mystring):\n",
    "    stack = Stack()\n",
    "    for letter in mystring:\n",
    "        stack.push(letter)\n",
    "    out = \"\"\n",
    "    is_empty = False\n",
    "    while not is_empty:\n",
    "        letter = stack.pop()\n",
    "        if not letter:\n",
    "            is_empty = True\n",
    "        else:\n",
    "            out += letter\n",
    "    return out\n",
    "\n",
    "invert_str(\"Rafael\")"
   ]
  },
  {
   "cell_type": "code",
   "execution_count": null,
   "id": "25c99e06",
   "metadata": {},
   "outputs": [],
   "source": [
    "# Simplified implementation of queue using python list\n",
    "class Queue:\n",
    "    def __init__(self):\n",
    "        self.items = []\n",
    "        \n",
    "    def enqueue(self, item):\n",
    "        self.items.insert(0, item)\n",
    "        \n",
    "    def dequeue(self):\n",
    "        return self.items.pop()\n",
    "    \n",
    "    # Helper methods:\n",
    "    def peek(self):\n",
    "        return len(self.items)\n",
    "    \n",
    "    def is_empty(self):\n",
    "        return self.items == []"
   ]
  }
 ],
 "metadata": {
  "kernelspec": {
   "display_name": "Python 3 (ipykernel)",
   "language": "python",
   "name": "python3"
  },
  "language_info": {
   "codemirror_mode": {
    "name": "ipython",
    "version": 3
   },
   "file_extension": ".py",
   "mimetype": "text/x-python",
   "name": "python",
   "nbconvert_exporter": "python",
   "pygments_lexer": "ipython3",
   "version": "3.11.1"
  }
 },
 "nbformat": 4,
 "nbformat_minor": 5
}
